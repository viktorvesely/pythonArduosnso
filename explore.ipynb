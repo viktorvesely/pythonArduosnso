{
 "cells": [
  {
   "cell_type": "code",
   "execution_count": 11,
   "metadata": {},
   "outputs": [
    {
     "name": "stdout",
     "output_type": "stream",
     "text": [
      "start\n",
      "stop\n"
     ]
    }
   ],
   "source": []
  },
  {
   "cell_type": "code",
   "execution_count": null,
   "metadata": {},
   "outputs": [],
   "source": []
  },
  {
   "cell_type": "code",
   "execution_count": 82,
   "metadata": {},
   "outputs": [],
   "source": [
    "from matplotlib import pyplot as plt\n",
    "import numpy as np\n",
    "from mpl_toolkits.mplot3d import Axes3D\n",
    "import pandas as pd\n",
    "import importlib\n",
    "import main\n",
    "import time\n",
    "\n",
    "\n",
    "importlib.reload(main)\n",
    "\n",
    "fig = plt.figure()\n",
    "ax = fig.add_subplot(111, projection = '3d')\n",
    "line = ax.plot([], [], [], marker = 'x')[0]\n",
    "\n",
    "trail = 30\n",
    "\n",
    "ax.set_xlim([-16992.000000, 16992.000000])\n",
    "ax.set_ylim([-16992.000000, 16992.000000])\n",
    "ax.set_zlim([-16992.000000, 16992.000000])\n",
    "\n",
    "def update(acc, gyr):\n",
    "    \n",
    "    acc = acc[-trail:, :]\n",
    "    gyr = gyr[-trail:, :]\n",
    "    \n",
    "    line.set_data(acc[:, :2].T)\n",
    "    line.set_3d_properties(acc[:, 2])\n",
    "\n",
    "\n",
    "    fig.canvas.draw()\n",
    "    fig.canvas.flush_events()\n",
    "\n",
    "plt.show()"
   ]
  },
  {
   "cell_type": "code",
   "execution_count": 84,
   "metadata": {},
   "outputs": [
    {
     "name": "stdout",
     "output_type": "stream",
     "text": [
      "start\n",
      "stop\n"
     ]
    }
   ],
   "source": [
    "main.setup(40, update)"
   ]
  },
  {
   "cell_type": "code",
   "execution_count": 35,
   "metadata": {},
   "outputs": [],
   "source": [
    "acc, gyr = np.load(\"./acc.npy\").T, np.load(\"./gyr.npy\").T"
   ]
  },
  {
   "cell_type": "code",
   "execution_count": 50,
   "metadata": {},
   "outputs": [
    {
     "data": {
      "text/html": [
       "<div>\n",
       "<style scoped>\n",
       "    .dataframe tbody tr th:only-of-type {\n",
       "        vertical-align: middle;\n",
       "    }\n",
       "\n",
       "    .dataframe tbody tr th {\n",
       "        vertical-align: top;\n",
       "    }\n",
       "\n",
       "    .dataframe thead th {\n",
       "        text-align: right;\n",
       "    }\n",
       "</style>\n",
       "<table border=\"1\" class=\"dataframe\">\n",
       "  <thead>\n",
       "    <tr style=\"text-align: right;\">\n",
       "      <th></th>\n",
       "      <th>0</th>\n",
       "      <th>1</th>\n",
       "      <th>2</th>\n",
       "    </tr>\n",
       "  </thead>\n",
       "  <tbody>\n",
       "    <tr>\n",
       "      <th>count</th>\n",
       "      <td>389.000000</td>\n",
       "      <td>389.000000</td>\n",
       "      <td>389.000000</td>\n",
       "    </tr>\n",
       "    <tr>\n",
       "      <th>mean</th>\n",
       "      <td>1446.056555</td>\n",
       "      <td>110.087404</td>\n",
       "      <td>14454.879177</td>\n",
       "    </tr>\n",
       "    <tr>\n",
       "      <th>std</th>\n",
       "      <td>3929.789623</td>\n",
       "      <td>3302.892135</td>\n",
       "      <td>8032.607949</td>\n",
       "    </tr>\n",
       "    <tr>\n",
       "      <th>min</th>\n",
       "      <td>-16992.000000</td>\n",
       "      <td>-8328.000000</td>\n",
       "      <td>-23348.000000</td>\n",
       "    </tr>\n",
       "    <tr>\n",
       "      <th>25%</th>\n",
       "      <td>-768.000000</td>\n",
       "      <td>-1856.000000</td>\n",
       "      <td>14032.000000</td>\n",
       "    </tr>\n",
       "    <tr>\n",
       "      <th>50%</th>\n",
       "      <td>1636.000000</td>\n",
       "      <td>620.000000</td>\n",
       "      <td>15108.000000</td>\n",
       "    </tr>\n",
       "    <tr>\n",
       "      <th>75%</th>\n",
       "      <td>2832.000000</td>\n",
       "      <td>1592.000000</td>\n",
       "      <td>15768.000000</td>\n",
       "    </tr>\n",
       "    <tr>\n",
       "      <th>max</th>\n",
       "      <td>27988.000000</td>\n",
       "      <td>23016.000000</td>\n",
       "      <td>32767.000000</td>\n",
       "    </tr>\n",
       "  </tbody>\n",
       "</table>\n",
       "</div>"
      ],
      "text/plain": [
       "                  0             1             2\n",
       "count    389.000000    389.000000    389.000000\n",
       "mean    1446.056555    110.087404  14454.879177\n",
       "std     3929.789623   3302.892135   8032.607949\n",
       "min   -16992.000000  -8328.000000 -23348.000000\n",
       "25%     -768.000000  -1856.000000  14032.000000\n",
       "50%     1636.000000    620.000000  15108.000000\n",
       "75%     2832.000000   1592.000000  15768.000000\n",
       "max    27988.000000  23016.000000  32767.000000"
      ]
     },
     "execution_count": 50,
     "metadata": {},
     "output_type": "execute_result"
    }
   ],
   "source": [
    "df = pd.DataFrame(acc.T)\n",
    "df.describe()"
   ]
  }
 ],
 "metadata": {
  "interpreter": {
   "hash": "83710493534b7c12f4d2571eb9e8520d6323180da2c729c8149d4f6d3cc438eb"
  },
  "kernelspec": {
   "display_name": "Python 3.11.1 64-bit",
   "language": "python",
   "name": "python3"
  },
  "language_info": {
   "codemirror_mode": {
    "name": "ipython",
    "version": 3
   },
   "file_extension": ".py",
   "mimetype": "text/x-python",
   "name": "python",
   "nbconvert_exporter": "python",
   "pygments_lexer": "ipython3",
   "version": "3.11.1"
  },
  "orig_nbformat": 4
 },
 "nbformat": 4,
 "nbformat_minor": 2
}
